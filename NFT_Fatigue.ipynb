{
 "cells": [
  {
   "cell_type": "code",
   "execution_count": null,
   "id": "614a7eb5",
   "metadata": {},
   "outputs": [],
   "source": [
    "import imageio\n",
    "import random\n",
    "from PIL import Image\n",
    "import glob\n",
    "\n",
    "#Scaling Factor, used to determine the amount of fatigue on the original image\n",
    "ImageFatigueScalingFactor = 5\n",
    "\n",
    "#File origin and tpye, EDIT THIS FOR YOUR NFTs\n",
    "file_loc = '#YOUR FLODER HERE'\n",
    "file_type = 'YOUR FILE TYPE HERE' #Ex: '.png'\n",
    "\n",
    "start_len = len(file_loc)\n",
    "end_len = len(file_type)\n",
    "\n",
    "list_of_files = glob.glob('#YOUR DIRECTORY HERE')\n",
    "\n",
    "for file_name in list_of_files:\n",
    "    nft = imageio.imread(file_name)\n",
    "    for i in range(0,nft.shape[0]-1):\n",
    "        for j in range(0,nft.shape[1]-1):\n",
    "            rand = random.randint(0,100)\n",
    "            if rand < ImageFatigueScalingFactor:\n",
    "                nft[i,j,0] = 0\n",
    "                nft[i,j,1] = 0\n",
    "                nft[i,j,2] = 0\n",
    "    nft_name = file_name[start_len:len(file_name)-end_len]\n",
    "    nft_out = str(nft_name + '_fatigue') \n",
    "    file = file_loc + nft_out + file_type\n",
    "    imageio.imwrite(file, nft)"
   ]
  }
 ],
 "metadata": {
  "kernelspec": {
   "display_name": "Python 3",
   "language": "python",
   "name": "python3"
  },
  "language_info": {
   "codemirror_mode": {
    "name": "ipython",
    "version": 3
   },
   "file_extension": ".py",
   "mimetype": "text/x-python",
   "name": "python",
   "nbconvert_exporter": "python",
   "pygments_lexer": "ipython3",
   "version": "3.6.13"
  }
 },
 "nbformat": 4,
 "nbformat_minor": 5
}
